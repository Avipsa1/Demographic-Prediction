{
 "cells": [
  {
   "cell_type": "code",
   "execution_count": 1,
   "metadata": {
    "collapsed": false
   },
   "outputs": [
    {
     "name": "stdout",
     "output_type": "stream",
     "text": [
      "Libraries imported..\n"
     ]
    }
   ],
   "source": [
    "# Import necessary packages\n",
    "import pandas as pd\n",
    "import matplotlib.pyplot as plt\n",
    "import mplleaflet, pydotplus\n",
    "from math import radians, cos, sin, asin, sqrt\n",
    "from ibmgeohashpy import geohash\n",
    "import numpy as np\n",
    "from mpl_toolkits.basemap import Basemap\n",
    "from matplotlib.colors import ListedColormap\n",
    "import os, sys, json, re, itertools, warnings, folium\n",
    "from matplotlib import animation\n",
    "from IPython.display import Image\n",
    "%matplotlib inline\n",
    "from sklearn import tree\n",
    "from sklearn.discriminant_analysis import LinearDiscriminantAnalysis as LDA\n",
    "from sklearn.model_selection import train_test_split\n",
    "from sklearn.metrics import confusion_matrix\n",
    "warnings.filterwarnings('ignore')\n",
    "print('Libraries imported..')"
   ]
  },
  {
   "cell_type": "code",
   "execution_count": 2,
   "metadata": {
    "collapsed": false
   },
   "outputs": [
    {
     "name": "stdout",
     "output_type": "stream",
     "text": [
      "Welcome to\n",
      "      ____              __\n",
      "     / __/__  ___ _____/ /__\n",
      "    _\\ \\/ _ \\/ _ `/ __/  '_/\n",
      "   /__ / .__/\\_,_/_/ /_/\\_\\   version 1.6.0\n",
      "      /_/\n",
      "\n",
      "Using Python version 3.5.2 (default, Jul  2 2016 17:53:06)\n",
      "SparkContext available as sc, HiveContext available as sqlContext.\n",
      "Spark instance running..\n"
     ]
    }
   ],
   "source": [
    "# Setup a Spark instance from Anaconda Python framework through the interface PySpark\n",
    "# Use Machine Learning Library MLLib from Pyspark\n",
    "spark_home = os.environ.get('SPARK_HOME', None)\n",
    "sys.path.append(spark_home + \"/python\")\n",
    "sys.path.append(os.path.join(spark_home, 'python/lib/py4j-0.9-src.zip'))\n",
    "\n",
    "filename = os.path.join(spark_home, 'python/pyspark/shell.py')\n",
    "exec(compile(open(filename, \"rb\").read(), filename, 'exec'))\n",
    "\n",
    "from pyspark.mllib.fpm import FPGrowth\n",
    "from pyspark.mllib.clustering import KMeans\n",
    "\n",
    "print('Spark instance running..')"
   ]
  },
  {
   "cell_type": "code",
   "execution_count": 53,
   "metadata": {
    "collapsed": false
   },
   "outputs": [
    {
     "name": "stdout",
     "output_type": "stream",
     "text": [
      "(829216, 9)\n",
      "Index(['Unnamed: 0', 'event_id', 'device_id', 'timestamp', 'longitude',\n",
      "       'latitude', 'gender', 'age', 'group'],\n",
      "      dtype='object')\n"
     ]
    }
   ],
   "source": [
    "train = pd.read_csv('data/gender_age_train.csv')\n",
    "events_within_china = pd.read_csv('./data/events_within_china.csv')\n",
    "data = events_within_china.merge(train, on = 'device_id', how = 'inner')\n",
    "# Remove NA from data\n",
    "data = data.dropna(how='any').drop_duplicates()\n",
    "print (data.shape)\n",
    "print (data.columns)"
   ]
  },
  {
   "cell_type": "code",
   "execution_count": 54,
   "metadata": {
    "collapsed": false
   },
   "outputs": [
    {
     "data": {
      "text/html": [
       "<div>\n",
       "<table border=\"1\" class=\"dataframe\">\n",
       "  <thead>\n",
       "    <tr style=\"text-align: right;\">\n",
       "      <th></th>\n",
       "      <th>Unnamed: 0</th>\n",
       "      <th>event_id</th>\n",
       "      <th>device_id</th>\n",
       "      <th>timestamp</th>\n",
       "      <th>longitude</th>\n",
       "      <th>latitude</th>\n",
       "      <th>gender</th>\n",
       "      <th>age</th>\n",
       "      <th>group</th>\n",
       "    </tr>\n",
       "  </thead>\n",
       "  <tbody>\n",
       "    <tr>\n",
       "      <th>0</th>\n",
       "      <td>0</td>\n",
       "      <td>1</td>\n",
       "      <td>29182687948017175</td>\n",
       "      <td>2016-05-01 00:55:25</td>\n",
       "      <td>121.38</td>\n",
       "      <td>31.24</td>\n",
       "      <td>M</td>\n",
       "      <td>46</td>\n",
       "      <td>M39+</td>\n",
       "    </tr>\n",
       "    <tr>\n",
       "      <th>1</th>\n",
       "      <td>7103</td>\n",
       "      <td>7104</td>\n",
       "      <td>29182687948017175</td>\n",
       "      <td>2016-05-02 09:37:02</td>\n",
       "      <td>121.38</td>\n",
       "      <td>31.24</td>\n",
       "      <td>M</td>\n",
       "      <td>46</td>\n",
       "      <td>M39+</td>\n",
       "    </tr>\n",
       "    <tr>\n",
       "      <th>2</th>\n",
       "      <td>29660</td>\n",
       "      <td>29661</td>\n",
       "      <td>29182687948017175</td>\n",
       "      <td>2016-05-04 00:56:04</td>\n",
       "      <td>121.39</td>\n",
       "      <td>31.23</td>\n",
       "      <td>M</td>\n",
       "      <td>46</td>\n",
       "      <td>M39+</td>\n",
       "    </tr>\n",
       "    <tr>\n",
       "      <th>3</th>\n",
       "      <td>33132</td>\n",
       "      <td>33133</td>\n",
       "      <td>29182687948017175</td>\n",
       "      <td>2016-05-06 05:01:15</td>\n",
       "      <td>121.38</td>\n",
       "      <td>31.24</td>\n",
       "      <td>M</td>\n",
       "      <td>46</td>\n",
       "      <td>M39+</td>\n",
       "    </tr>\n",
       "    <tr>\n",
       "      <th>4</th>\n",
       "      <td>38979</td>\n",
       "      <td>38980</td>\n",
       "      <td>29182687948017175</td>\n",
       "      <td>2016-05-06 09:55:04</td>\n",
       "      <td>121.16</td>\n",
       "      <td>31.00</td>\n",
       "      <td>M</td>\n",
       "      <td>46</td>\n",
       "      <td>M39+</td>\n",
       "    </tr>\n",
       "  </tbody>\n",
       "</table>\n",
       "</div>"
      ],
      "text/plain": [
       "   Unnamed: 0  event_id          device_id            timestamp  longitude  \\\n",
       "0           0         1  29182687948017175  2016-05-01 00:55:25     121.38   \n",
       "1        7103      7104  29182687948017175  2016-05-02 09:37:02     121.38   \n",
       "2       29660     29661  29182687948017175  2016-05-04 00:56:04     121.39   \n",
       "3       33132     33133  29182687948017175  2016-05-06 05:01:15     121.38   \n",
       "4       38979     38980  29182687948017175  2016-05-06 09:55:04     121.16   \n",
       "\n",
       "   latitude gender  age group  \n",
       "0     31.24      M   46  M39+  \n",
       "1     31.24      M   46  M39+  \n",
       "2     31.23      M   46  M39+  \n",
       "3     31.24      M   46  M39+  \n",
       "4     31.00      M   46  M39+  "
      ]
     },
     "execution_count": 54,
     "metadata": {},
     "output_type": "execute_result"
    }
   ],
   "source": [
    "data.head()"
   ]
  },
  {
   "cell_type": "code",
   "execution_count": 57,
   "metadata": {
    "collapsed": false
   },
   "outputs": [
    {
     "data": {
      "text/html": [
       "<div>\n",
       "<table border=\"1\" class=\"dataframe\">\n",
       "  <thead>\n",
       "    <tr style=\"text-align: right;\">\n",
       "      <th></th>\n",
       "      <th>device_id</th>\n",
       "      <th>gender</th>\n",
       "      <th>age</th>\n",
       "      <th>group</th>\n",
       "      <th>geohash_6</th>\n",
       "      <th>event_id</th>\n",
       "    </tr>\n",
       "  </thead>\n",
       "  <tbody>\n",
       "    <tr>\n",
       "      <th>0</th>\n",
       "      <td>29182687948017175</td>\n",
       "      <td>M</td>\n",
       "      <td>46</td>\n",
       "      <td>M39+</td>\n",
       "      <td>wtw3dp</td>\n",
       "      <td>1</td>\n",
       "    </tr>\n",
       "    <tr>\n",
       "      <th>1</th>\n",
       "      <td>29182687948017175</td>\n",
       "      <td>M</td>\n",
       "      <td>46</td>\n",
       "      <td>M39+</td>\n",
       "      <td>wtw3dp</td>\n",
       "      <td>7104</td>\n",
       "    </tr>\n",
       "    <tr>\n",
       "      <th>2</th>\n",
       "      <td>29182687948017175</td>\n",
       "      <td>M</td>\n",
       "      <td>46</td>\n",
       "      <td>M39+</td>\n",
       "      <td>wtw3dm</td>\n",
       "      <td>29661</td>\n",
       "    </tr>\n",
       "    <tr>\n",
       "      <th>3</th>\n",
       "      <td>29182687948017175</td>\n",
       "      <td>M</td>\n",
       "      <td>46</td>\n",
       "      <td>M39+</td>\n",
       "      <td>wtw3dp</td>\n",
       "      <td>33133</td>\n",
       "    </tr>\n",
       "    <tr>\n",
       "      <th>4</th>\n",
       "      <td>29182687948017175</td>\n",
       "      <td>M</td>\n",
       "      <td>46</td>\n",
       "      <td>M39+</td>\n",
       "      <td>wtw0m5</td>\n",
       "      <td>38980</td>\n",
       "    </tr>\n",
       "  </tbody>\n",
       "</table>\n",
       "</div>"
      ],
      "text/plain": [
       "           device_id gender  age group geohash_6  event_id\n",
       "0  29182687948017175      M   46  M39+    wtw3dp         1\n",
       "1  29182687948017175      M   46  M39+    wtw3dp      7104\n",
       "2  29182687948017175      M   46  M39+    wtw3dm     29661\n",
       "3  29182687948017175      M   46  M39+    wtw3dp     33133\n",
       "4  29182687948017175      M   46  M39+    wtw0m5     38980"
      ]
     },
     "execution_count": 57,
     "metadata": {},
     "output_type": "execute_result"
    }
   ],
   "source": [
    "geohashes=[]\n",
    "for x,y in zip(data.latitude,data.longitude):\n",
    "    geohashes.append(geohash.encode(x,y,6))\n",
    "data['geohash_6'] = geohashes\n",
    "data = data[['device_id','gender','age','group','geohash_6','event_id']]\n",
    "data.to_csv('gender_age_train_data_geohash_6_05022017.txt', sep=' ', index=False, header=False)\n",
    "data.head()"
   ]
  },
  {
   "cell_type": "code",
   "execution_count": 58,
   "metadata": {
    "collapsed": false
   },
   "outputs": [
    {
     "data": {
      "text/plain": [
       "(829216, 6)"
      ]
     },
     "execution_count": 58,
     "metadata": {},
     "output_type": "execute_result"
    }
   ],
   "source": [
    "data.shape"
   ]
  },
  {
   "cell_type": "code",
   "execution_count": 59,
   "metadata": {
    "collapsed": false
   },
   "outputs": [
    {
     "name": "stdout",
     "output_type": "stream",
     "text": [
      "Generating RDD in Spark for obtaining Frequent itemsets....\n"
     ]
    }
   ],
   "source": [
    "# Create training dataset with a format that FPGrowthModel understands\n",
    "rdd = sc.textFile(\"gender_age_train_data_geohash_6_05022017.txt\")\n",
    "transactions = rdd.map(lambda line: line.strip().split(' '))\n",
    "unique = transactions.map(lambda x: list(set(x))).cache()\n",
    "print('Generating RDD in Spark for obtaining Frequent itemsets....')"
   ]
  },
  {
   "cell_type": "code",
   "execution_count": 77,
   "metadata": {
    "collapsed": false
   },
   "outputs": [
    {
     "name": "stdout",
     "output_type": "stream",
     "text": [
      "Total no of valid frequent itemsets for min_support:2e-05 and 2 partitions= 27987\n"
     ]
    },
    {
     "ename": "ValueError",
     "evalue": "invalid literal for int() with base 10: 'M39+'",
     "traceback": [
      "\u001b[1;31m---------------------------------------------------------------------------\u001b[0m",
      "\u001b[1;31mValueError\u001b[0m                                Traceback (most recent call last)",
      "\u001b[1;32m<ipython-input-77-e7d64f64af01>\u001b[0m in \u001b[0;36m<module>\u001b[1;34m()\u001b[0m\n\u001b[0;32m     64\u001b[0m                 \u001b[0mdf1\u001b[0m\u001b[1;33m.\u001b[0m\u001b[0miloc\u001b[0m\u001b[1;33m[\u001b[0m\u001b[0mitem\u001b[0m\u001b[1;33m,\u001b[0m\u001b[1;36m3\u001b[0m\u001b[1;33m]\u001b[0m \u001b[1;33m=\u001b[0m \u001b[0ma1\u001b[0m\u001b[1;33m\u001b[0m\u001b[0m\n\u001b[0;32m     65\u001b[0m         \u001b[1;31m#Convert the age and device_id columns to integer type and sort by frequency\u001b[0m\u001b[1;33m\u001b[0m\u001b[1;33m\u001b[0m\u001b[0m\n\u001b[1;32m---> 66\u001b[1;33m         \u001b[0mdf1\u001b[0m\u001b[1;33m[\u001b[0m\u001b[1;34m'age'\u001b[0m\u001b[1;33m]\u001b[0m \u001b[1;33m=\u001b[0m \u001b[0mdf1\u001b[0m\u001b[1;33m[\u001b[0m\u001b[1;34m'age'\u001b[0m\u001b[1;33m]\u001b[0m\u001b[1;33m.\u001b[0m\u001b[0mmap\u001b[0m\u001b[1;33m(\u001b[0m\u001b[1;32mlambda\u001b[0m \u001b[0mx\u001b[0m\u001b[1;33m:\u001b[0m \u001b[0mint\u001b[0m\u001b[1;33m(\u001b[0m\u001b[0mx\u001b[0m\u001b[1;33m)\u001b[0m\u001b[1;33m)\u001b[0m\u001b[1;33m\u001b[0m\u001b[0m\n\u001b[0m\u001b[0;32m     67\u001b[0m         \u001b[0mdf1\u001b[0m\u001b[1;33m[\u001b[0m\u001b[1;34m'device_id'\u001b[0m\u001b[1;33m]\u001b[0m \u001b[1;33m=\u001b[0m \u001b[0mdf1\u001b[0m\u001b[1;33m[\u001b[0m\u001b[1;34m'device_id'\u001b[0m\u001b[1;33m]\u001b[0m\u001b[1;33m.\u001b[0m\u001b[0mmap\u001b[0m\u001b[1;33m(\u001b[0m\u001b[1;32mlambda\u001b[0m \u001b[0mx\u001b[0m\u001b[1;33m:\u001b[0m \u001b[0mint\u001b[0m\u001b[1;33m(\u001b[0m\u001b[0mx\u001b[0m\u001b[1;33m)\u001b[0m\u001b[1;33m)\u001b[0m\u001b[1;33m\u001b[0m\u001b[0m\n\u001b[0;32m     68\u001b[0m         \u001b[0mdf1\u001b[0m \u001b[1;33m=\u001b[0m \u001b[0mdf1\u001b[0m\u001b[1;33m.\u001b[0m\u001b[0msort_values\u001b[0m\u001b[1;33m(\u001b[0m\u001b[0mby\u001b[0m \u001b[1;33m=\u001b[0m \u001b[1;34m'freq'\u001b[0m\u001b[1;33m,\u001b[0m \u001b[0minplace\u001b[0m \u001b[1;33m=\u001b[0m \u001b[1;32mFalse\u001b[0m\u001b[1;33m,\u001b[0m \u001b[0maxis\u001b[0m \u001b[1;33m=\u001b[0m \u001b[1;36m0\u001b[0m\u001b[1;33m,\u001b[0m \u001b[0mascending\u001b[0m\u001b[1;33m=\u001b[0m \u001b[1;32mFalse\u001b[0m\u001b[1;33m)\u001b[0m\u001b[1;33m\u001b[0m\u001b[0m\n",
      "\u001b[1;32m/home/roya/anaconda3/lib/python3.5/site-packages/pandas/core/series.py\u001b[0m in \u001b[0;36mmap\u001b[1;34m(self, arg, na_action)\u001b[0m\n\u001b[0;32m   2102\u001b[0m             \u001b[0mnew_values\u001b[0m \u001b[1;33m=\u001b[0m \u001b[0malgos\u001b[0m\u001b[1;33m.\u001b[0m\u001b[0mtake_1d\u001b[0m\u001b[1;33m(\u001b[0m\u001b[0marg\u001b[0m\u001b[1;33m.\u001b[0m\u001b[0m_values\u001b[0m\u001b[1;33m,\u001b[0m \u001b[0mindexer\u001b[0m\u001b[1;33m)\u001b[0m\u001b[1;33m\u001b[0m\u001b[0m\n\u001b[0;32m   2103\u001b[0m         \u001b[1;32melse\u001b[0m\u001b[1;33m:\u001b[0m\u001b[1;33m\u001b[0m\u001b[0m\n\u001b[1;32m-> 2104\u001b[1;33m             \u001b[0mnew_values\u001b[0m \u001b[1;33m=\u001b[0m \u001b[0mmap_f\u001b[0m\u001b[1;33m(\u001b[0m\u001b[0mvalues\u001b[0m\u001b[1;33m,\u001b[0m \u001b[0marg\u001b[0m\u001b[1;33m)\u001b[0m\u001b[1;33m\u001b[0m\u001b[0m\n\u001b[0m\u001b[0;32m   2105\u001b[0m \u001b[1;33m\u001b[0m\u001b[0m\n\u001b[0;32m   2106\u001b[0m         return self._constructor(new_values,\n",
      "\u001b[1;32mpandas/src/inference.pyx\u001b[0m in \u001b[0;36mpandas.lib.map_infer (pandas/lib.c:62658)\u001b[1;34m()\u001b[0m\n",
      "\u001b[1;32m<ipython-input-77-e7d64f64af01>\u001b[0m in \u001b[0;36m<lambda>\u001b[1;34m(x)\u001b[0m\n\u001b[0;32m     64\u001b[0m                 \u001b[0mdf1\u001b[0m\u001b[1;33m.\u001b[0m\u001b[0miloc\u001b[0m\u001b[1;33m[\u001b[0m\u001b[0mitem\u001b[0m\u001b[1;33m,\u001b[0m\u001b[1;36m3\u001b[0m\u001b[1;33m]\u001b[0m \u001b[1;33m=\u001b[0m \u001b[0ma1\u001b[0m\u001b[1;33m\u001b[0m\u001b[0m\n\u001b[0;32m     65\u001b[0m         \u001b[1;31m#Convert the age and device_id columns to integer type and sort by frequency\u001b[0m\u001b[1;33m\u001b[0m\u001b[1;33m\u001b[0m\u001b[0m\n\u001b[1;32m---> 66\u001b[1;33m         \u001b[0mdf1\u001b[0m\u001b[1;33m[\u001b[0m\u001b[1;34m'age'\u001b[0m\u001b[1;33m]\u001b[0m \u001b[1;33m=\u001b[0m \u001b[0mdf1\u001b[0m\u001b[1;33m[\u001b[0m\u001b[1;34m'age'\u001b[0m\u001b[1;33m]\u001b[0m\u001b[1;33m.\u001b[0m\u001b[0mmap\u001b[0m\u001b[1;33m(\u001b[0m\u001b[1;32mlambda\u001b[0m \u001b[0mx\u001b[0m\u001b[1;33m:\u001b[0m \u001b[0mint\u001b[0m\u001b[1;33m(\u001b[0m\u001b[0mx\u001b[0m\u001b[1;33m)\u001b[0m\u001b[1;33m)\u001b[0m\u001b[1;33m\u001b[0m\u001b[0m\n\u001b[0m\u001b[0;32m     67\u001b[0m         \u001b[0mdf1\u001b[0m\u001b[1;33m[\u001b[0m\u001b[1;34m'device_id'\u001b[0m\u001b[1;33m]\u001b[0m \u001b[1;33m=\u001b[0m \u001b[0mdf1\u001b[0m\u001b[1;33m[\u001b[0m\u001b[1;34m'device_id'\u001b[0m\u001b[1;33m]\u001b[0m\u001b[1;33m.\u001b[0m\u001b[0mmap\u001b[0m\u001b[1;33m(\u001b[0m\u001b[1;32mlambda\u001b[0m \u001b[0mx\u001b[0m\u001b[1;33m:\u001b[0m \u001b[0mint\u001b[0m\u001b[1;33m(\u001b[0m\u001b[0mx\u001b[0m\u001b[1;33m)\u001b[0m\u001b[1;33m)\u001b[0m\u001b[1;33m\u001b[0m\u001b[0m\n\u001b[0;32m     68\u001b[0m         \u001b[0mdf1\u001b[0m \u001b[1;33m=\u001b[0m \u001b[0mdf1\u001b[0m\u001b[1;33m.\u001b[0m\u001b[0msort_values\u001b[0m\u001b[1;33m(\u001b[0m\u001b[0mby\u001b[0m \u001b[1;33m=\u001b[0m \u001b[1;34m'freq'\u001b[0m\u001b[1;33m,\u001b[0m \u001b[0minplace\u001b[0m \u001b[1;33m=\u001b[0m \u001b[1;32mFalse\u001b[0m\u001b[1;33m,\u001b[0m \u001b[0maxis\u001b[0m \u001b[1;33m=\u001b[0m \u001b[1;36m0\u001b[0m\u001b[1;33m,\u001b[0m \u001b[0mascending\u001b[0m\u001b[1;33m=\u001b[0m \u001b[1;32mFalse\u001b[0m\u001b[1;33m)\u001b[0m\u001b[1;33m\u001b[0m\u001b[0m\n",
      "\u001b[1;31mValueError\u001b[0m: invalid literal for int() with base 10: 'M39+'"
     ],
     "output_type": "error"
    }
   ],
   "source": [
    "numpart,minsup,validfreq = [],[],[]\n",
    "for i in np.arange(2,6,2):\n",
    "    for j in np.arange(0.00002,0.00015,0.00001):\n",
    "        model = FPGrowth.train(unique, minSupport=j, numPartitions=i)\n",
    "        result = model.freqItemsets().collect()\n",
    "        filename = 'freqItemSets_train_data_05022017_ms_0_0000'+str(int(j*100000))+'_np_'+str(i)+'.txt'\n",
    "        outfile = open(filename, 'w')\n",
    "        for item in result:\n",
    "            outfile.write(\"%s\\n\" % str(item))\n",
    "        #print('Generating freqitemsets for min_support='+str(j)+'no_of_partitions='+str(i)+'..')    \n",
    "        text_file = open(filename, \"r\")\n",
    "        freqitems = text_file.read().split('\\n')\n",
    "        validitems = []\n",
    "        for item in freqitems:\n",
    "            if len(item)>73:\n",
    "                validitems.append(item)\n",
    "        print('Total no of valid frequent itemsets for min_support:'+str(j)+' and '+str(i)+' partitions= '+str(len(validitems)))\n",
    "        numpart.append(i)\n",
    "        minsup.append(j)\n",
    "        validfreq.append(len(validitems))\n",
    "        freqsets = []\n",
    "        for item in validitems:\n",
    "            # if the string matches the word 'freq' pick the value starting from '=' until ')'\n",
    "            x = re.search(\"freq\", item).end()\n",
    "            # convert the extracted value to a number and check if it is > 50\n",
    "            item1 = int(item[x+1:len(item)-1])\n",
    "            #print(item1)\n",
    "            if item1>50:\n",
    "                freqsets.append(item)\n",
    "        newitems = []\n",
    "        for item in freqsets:\n",
    "            x = int(re.search(\"]\",item).start())\n",
    "            group = item[19:x]\n",
    "            freq = item[x+8:len(item)-1]\n",
    "            newitem = group + ', ' + freq\n",
    "            newitems.append(newitem)\n",
    "        filename1 = 'formatted_'+filename\n",
    "        outfile1 = open(filename1, 'w')\n",
    "        for item in newitems:\n",
    "            if len(item)>53: #63 for 12-char geohash\n",
    "                outfile1.write(\"%s\\n\" % str(item))\n",
    "        outfile1.close() \n",
    "        filepath1 = 'formatted_freqItemSets_train_data_05022017_ms_0_0000'+str(int(j*100000))+'_np_'+str(i)+'.txt'\n",
    "        df = pd.read_csv(filepath1, header = None)\n",
    "        df1 = df\n",
    "        df1[0] = df1[0].map(lambda x: x.lstrip(' \\'').rstrip('\\''))\n",
    "        df1[1] = df1[1].map(lambda x: x.lstrip(' \\'').rstrip('\\''))\n",
    "        df1[2] = df1[2].map(lambda x: x.lstrip(' \\'').rstrip('\\''))\n",
    "        df1[3]= df1[3].map(lambda x: x.lstrip(' \\'').rstrip('\\''))\n",
    "        df1[4]= df1[4].map(lambda x: x.lstrip(' \\'').rstrip('\\''))\n",
    "        df1.columns = ['geohashes','device_id','age','group','gender','freq']\n",
    "        for item in range(0,len(df1)):\n",
    "            if len(df1.iloc[item,0])>15:\n",
    "                #print('\\n',df1.iloc[i,0])\n",
    "                a = df1.iloc[item,0]\n",
    "                b = df1.iloc[item,1]\n",
    "                df1.iloc[item,0] = b\n",
    "                df1.iloc[item,1] = a\n",
    "            if len(df1.iloc[item,2])>2:\n",
    "                #print('\\n',df1.iloc[i,0])\n",
    "                a1 = df1.iloc[item,2]\n",
    "                b1 = df1.iloc[item,3]\n",
    "                df1.iloc[item,2] = b1\n",
    "                df1.iloc[item,3] = a1\n",
    "        #Convert the age and device_id columns to integer type and sort by frequency\n",
    "        df1['age'] = df1['age'].map(lambda x: int(x))\n",
    "        df1['device_id'] = df1['device_id'].map(lambda x: int(x))\n",
    "        df1 = df1.sort_values(by = 'freq', inplace = False, axis = 0, ascending= False)\n",
    "        # Assign numeric values to gender M := 0 and F := 1\n",
    "        for k in range(0,len(df1)):\n",
    "            if df1.iloc[k,4] == 'M':\n",
    "                df1.iloc[k,4] = 0\n",
    "            else:\n",
    "                df1.iloc[k,4] = 1\n",
    "        #Assign numeric values to groups\n",
    "        #print('\\nUnique Groups : \\n\\n M22-: 1, M23-26 : 2, M27-28: 3, M29-31: 4, M32-38: 5, M39+: 6')\n",
    "        #print('\\n F23-: 7, F24-26 : 8, F27-28: 9, F29-32: 10, F33-42: 11, F43+: 12 ')\n",
    "        for i1 in range(0,len(df1)):\n",
    "            if df1.iloc[i1,3] == 'M22-':\n",
    "                df1.iloc[i1,3] = 1\n",
    "            elif df1.iloc[i1,3] == 'M23-26':\n",
    "                df1.iloc[i1,3] = 2\n",
    "            elif df1.iloc[i1,3] == 'M27-28':\n",
    "                df1.iloc[i1,3] = 3\n",
    "            elif df1.iloc[i1,3] == 'M29-31':\n",
    "                df1.iloc[i1,3] = 4\n",
    "            elif df1.iloc[i1,3] == 'M32-38':\n",
    "                df1.iloc[i1,3] = 5\n",
    "            elif df1.iloc[i1,3] == 'M39+':\n",
    "                df1.iloc[i1,3] = 6\n",
    "            elif df1.iloc[i1,3] == 'F23-':\n",
    "                df1.iloc[i1,3] = 7\n",
    "            elif df1.iloc[i1,3] == 'F24-26':\n",
    "                df1.iloc[i1,3] = 8\n",
    "            elif df1.iloc[i1,3] == 'F27-28':\n",
    "                df1.iloc[i1,3] = 9\n",
    "            elif df1.iloc[i1,3] == 'F29-32':\n",
    "                df1.iloc[i1,3] = 10\n",
    "            elif df1.iloc[i1,3] == 'F33-42':\n",
    "                df1.iloc[i1,3] = 11\n",
    "            elif df1.iloc[i1,3] == 'F43+':\n",
    "                df1.iloc[i1,3] = 12\n",
    "        filepath2 = 'formatted_'+filepath1[28:-4]+'.csv'\n",
    "        df1.to_csv(filepath2, index = False)\n",
    "        print('Created formatted freq-itemset..')"
   ]
  },
  {
   "cell_type": "code",
   "execution_count": 78,
   "metadata": {
    "collapsed": false
   },
   "outputs": [
    {
     "name": "stdout",
     "output_type": "stream",
     "text": [
      "413\n",
      "483\n",
      "1314\n",
      "1397\n",
      "1510\n",
      "1643\n",
      "1650\n",
      "1857\n",
      "1897\n",
      "2462\n",
      "2582\n",
      "2789\n",
      "3171\n",
      "3607\n"
     ]
    }
   ],
   "source": [
    "for i in range(0,len(df)):\n",
    "    if len(df.iloc[i,2])!=2:\n",
    "        print(i)"
   ]
  },
  {
   "cell_type": "code",
   "execution_count": 76,
   "metadata": {
    "collapsed": true
   },
   "outputs": [],
   "source": [
    "df.to_csv('formatted_freqItemSets_train_data_05022017_ms_0_00002_np_2.txt')"
   ]
  },
  {
   "cell_type": "code",
   "execution_count": 11,
   "metadata": {
    "collapsed": false
   },
   "outputs": [
    {
     "name": "stdout",
     "output_type": "stream",
     "text": [
      "formatted__data_02022017_ms_0_00002.0_np_2.csv\n",
      "formatted__data_02022017_ms_0_00003.0_np_2.csv\n",
      "formatted__data_02022017_ms_0_00004.0_np_2.csv\n",
      "formatted__data_02022017_ms_0_00005.0_np_2.csv\n",
      "formatted__data_02022017_ms_0_00006.0_np_2.csv\n",
      "formatted__data_02022017_ms_0_00007.0_np_2.csv\n",
      "formatted__data_02022017_ms_0_00008.0_np_2.csv\n",
      "formatted__data_02022017_ms_0_00009.0_np_2.csv\n",
      "formatted__data_02022017_ms_0_000010.0_np_2.csv\n",
      "formatted__data_02022017_ms_0_000011.0_np_2.csv\n",
      "formatted__data_02022017_ms_0_000012.0_np_2.csv\n",
      "formatted__data_02022017_ms_0_00002.0_np_3.csv\n",
      "formatted__data_02022017_ms_0_00003.0_np_3.csv\n",
      "formatted__data_02022017_ms_0_00004.0_np_3.csv\n",
      "formatted__data_02022017_ms_0_00005.0_np_3.csv\n",
      "formatted__data_02022017_ms_0_00006.0_np_3.csv\n",
      "formatted__data_02022017_ms_0_00007.0_np_3.csv\n",
      "formatted__data_02022017_ms_0_00008.0_np_3.csv\n",
      "formatted__data_02022017_ms_0_00009.0_np_3.csv\n",
      "formatted__data_02022017_ms_0_000010.0_np_3.csv\n",
      "formatted__data_02022017_ms_0_000011.0_np_3.csv\n",
      "formatted__data_02022017_ms_0_000012.0_np_3.csv\n",
      "formatted__data_02022017_ms_0_00002.0_np_4.csv\n",
      "formatted__data_02022017_ms_0_00003.0_np_4.csv\n",
      "formatted__data_02022017_ms_0_00004.0_np_4.csv\n",
      "formatted__data_02022017_ms_0_00005.0_np_4.csv\n",
      "formatted__data_02022017_ms_0_00006.0_np_4.csv\n",
      "formatted__data_02022017_ms_0_00007.0_np_4.csv\n",
      "formatted__data_02022017_ms_0_00008.0_np_4.csv\n",
      "formatted__data_02022017_ms_0_00009.0_np_4.csv\n",
      "formatted__data_02022017_ms_0_000010.0_np_4.csv\n",
      "formatted__data_02022017_ms_0_000011.0_np_4.csv\n",
      "formatted__data_02022017_ms_0_000012.0_np_4.csv\n",
      "formatted__data_02022017_ms_0_00002.0_np_5.csv\n",
      "formatted__data_02022017_ms_0_00003.0_np_5.csv\n",
      "formatted__data_02022017_ms_0_00004.0_np_5.csv\n",
      "formatted__data_02022017_ms_0_00005.0_np_5.csv\n",
      "formatted__data_02022017_ms_0_00006.0_np_5.csv\n",
      "formatted__data_02022017_ms_0_00007.0_np_5.csv\n",
      "formatted__data_02022017_ms_0_00008.0_np_5.csv\n",
      "formatted__data_02022017_ms_0_00009.0_np_5.csv\n",
      "formatted__data_02022017_ms_0_000010.0_np_5.csv\n",
      "formatted__data_02022017_ms_0_000011.0_np_5.csv\n",
      "formatted__data_02022017_ms_0_000012.0_np_5.csv\n",
      "formatted__data_02022017_ms_0_00002.0_np_6.csv\n",
      "formatted__data_02022017_ms_0_00003.0_np_6.csv\n",
      "formatted__data_02022017_ms_0_00004.0_np_6.csv\n",
      "formatted__data_02022017_ms_0_00005.0_np_6.csv\n",
      "formatted__data_02022017_ms_0_00006.0_np_6.csv\n",
      "formatted__data_02022017_ms_0_00007.0_np_6.csv\n",
      "formatted__data_02022017_ms_0_00008.0_np_6.csv\n",
      "formatted__data_02022017_ms_0_00009.0_np_6.csv\n",
      "formatted__data_02022017_ms_0_000010.0_np_6.csv\n",
      "formatted__data_02022017_ms_0_000011.0_np_6.csv\n",
      "formatted__data_02022017_ms_0_000012.0_np_6.csv\n",
      "formatted__data_02022017_ms_0_00002.0_np_7.csv\n",
      "formatted__data_02022017_ms_0_00003.0_np_7.csv\n",
      "formatted__data_02022017_ms_0_00004.0_np_7.csv\n",
      "formatted__data_02022017_ms_0_00005.0_np_7.csv\n",
      "formatted__data_02022017_ms_0_00006.0_np_7.csv\n",
      "formatted__data_02022017_ms_0_00007.0_np_7.csv\n",
      "formatted__data_02022017_ms_0_00008.0_np_7.csv\n",
      "formatted__data_02022017_ms_0_00009.0_np_7.csv\n",
      "formatted__data_02022017_ms_0_000010.0_np_7.csv\n",
      "formatted__data_02022017_ms_0_000011.0_np_7.csv\n",
      "formatted__data_02022017_ms_0_000012.0_np_7.csv\n",
      "formatted__data_02022017_ms_0_00002.0_np_8.csv\n",
      "formatted__data_02022017_ms_0_00003.0_np_8.csv\n",
      "formatted__data_02022017_ms_0_00004.0_np_8.csv\n",
      "formatted__data_02022017_ms_0_00005.0_np_8.csv\n",
      "formatted__data_02022017_ms_0_00006.0_np_8.csv\n",
      "formatted__data_02022017_ms_0_00007.0_np_8.csv\n",
      "formatted__data_02022017_ms_0_00008.0_np_8.csv\n",
      "formatted__data_02022017_ms_0_00009.0_np_8.csv\n",
      "formatted__data_02022017_ms_0_000010.0_np_8.csv\n",
      "formatted__data_02022017_ms_0_000011.0_np_8.csv\n",
      "formatted__data_02022017_ms_0_000012.0_np_8.csv\n",
      "formatted__data_02022017_ms_0_00002.0_np_9.csv\n",
      "formatted__data_02022017_ms_0_00003.0_np_9.csv\n",
      "formatted__data_02022017_ms_0_00004.0_np_9.csv\n",
      "formatted__data_02022017_ms_0_00005.0_np_9.csv\n",
      "formatted__data_02022017_ms_0_00006.0_np_9.csv\n",
      "formatted__data_02022017_ms_0_00007.0_np_9.csv\n",
      "formatted__data_02022017_ms_0_00008.0_np_9.csv\n",
      "formatted__data_02022017_ms_0_00009.0_np_9.csv\n",
      "formatted__data_02022017_ms_0_000010.0_np_9.csv\n",
      "formatted__data_02022017_ms_0_000011.0_np_9.csv\n",
      "formatted__data_02022017_ms_0_000012.0_np_9.csv\n"
     ]
    }
   ],
   "source": [
    "# For those items in the freqitemsets where device_id comes before geohash, swap the values\n",
    "for i in np.arange(2,10,2):\n",
    "    for j in np.arange(0.00002,0.00013,0.00001):\n",
    "        filepath1 = 'formatted_freqItemSets_train_data_05022017_ms_0_0000'+str(j*100000)+'_np_'+str(i)+'.txt'\n",
    "        df = pd.read_csv(filepath1, header = None)\n",
    "        df1 = df   \n",
    "        # print('Creating a pandas dataframe using the frequently occurring geohashes..')\n",
    "        # print('\\n Number of frequent itemsets :',df1.shape[0],'\\n')\n",
    "        #Format the string by removing extra spaces and quotes\n",
    "        df1[0] = df1[0].map(lambda x: x.lstrip(' \\'').rstrip('\\''))\n",
    "        df1[1] = df1[1].map(lambda x: x.lstrip(' \\'').rstrip('\\''))\n",
    "        df1[2] = df1[2].map(lambda x: x.lstrip(' \\'').rstrip('\\''))\n",
    "        df1[3]= df1[3].map(lambda x: x.lstrip(' \\'').rstrip('\\''))\n",
    "        df1[4]= df1[4].map(lambda x: x.lstrip(' \\'').rstrip('\\''))\n",
    "        df1.columns = ['geohashes','device_id','age','group','gender','freq']\n",
    "\n",
    "        #print(df1.head())\n",
    "        #print('\\nRearranging data correctly from frequent itemsets..')\n",
    "        # Reshuffle geohash, device_id and age,group columns to synchronise the data\n",
    "        for item in range(0,len(df1)):\n",
    "            if len(df1.iloc[item,0])>15:\n",
    "                #print('\\n',df1.iloc[i,0])\n",
    "                a = df1.iloc[item,0]\n",
    "                b = df1.iloc[item,1]\n",
    "                df1.iloc[item,0] = b\n",
    "                df1.iloc[item,1] = a\n",
    "            if len(df1.iloc[item,2])>2:\n",
    "                #print('\\n',df1.iloc[i,0])\n",
    "                a1 = df1.iloc[item,2]\n",
    "                b1 = df1.iloc[item,3]\n",
    "                df1.iloc[item,2] = b1\n",
    "                df1.iloc[item,3] = a1\n",
    "\n",
    "        #print('\\nReshuffling complete..')\n",
    "\n",
    "        #Convert the age and device_id columns to integer type and sort by frequency\n",
    "        df1['age'] = df1['age'].map(lambda x: int(x))\n",
    "        df1['device_id'] = df1['device_id'].map(lambda x: int(x))\n",
    "        df1 = df1.sort_values(by = 'freq', inplace = False, axis = 0, ascending= False)\n",
    "        #print('\\nConverting categorical values to numeric values for further analyses.\\n \\nMale=0 & Female =1')\n",
    "        # Assign numeric values to gender M := 0 and F := 1\n",
    "        for k in range(0,len(df1)):\n",
    "            if df1.iloc[k,4] == 'M':\n",
    "                df1.iloc[k,4] = 0\n",
    "            else:\n",
    "                df1.iloc[k,4] = 1\n",
    "\n",
    "        #Assign numeric values to groups\n",
    "        #print('\\nUnique Groups : \\n\\n M22-: 1, M23-26 : 2, M27-28: 3, M29-31: 4, M32-38: 5, M39+: 6')\n",
    "        #print('\\n F23-: 7, F24-26 : 8, F27-28: 9, F29-32: 10, F33-42: 11, F43+: 12 ')\n",
    "        for i1 in range(0,len(df1)):\n",
    "            if df1.iloc[i1,3] == 'M22-':\n",
    "                df1.iloc[i1,3] = 1\n",
    "            elif df1.iloc[i1,3] == 'M23-26':\n",
    "                df1.iloc[i1,3] = 2\n",
    "            elif df1.iloc[i1,3] == 'M27-28':\n",
    "                df1.iloc[i1,3] = 3\n",
    "            elif df1.iloc[i1,3] == 'M29-31':\n",
    "                df1.iloc[i1,3] = 4\n",
    "            elif df1.iloc[i1,3] == 'M32-38':\n",
    "                df1.iloc[i1,3] = 5\n",
    "            elif df1.iloc[i1,3] == 'M39+':\n",
    "                df1.iloc[i1,3] = 6\n",
    "            elif df1.iloc[i1,3] == 'F23-':\n",
    "                df1.iloc[i1,3] = 7\n",
    "            elif df1.iloc[i1,3] == 'F24-26':\n",
    "                df1.iloc[i1,3] = 8\n",
    "            elif df1.iloc[i1,3] == 'F27-28':\n",
    "                df1.iloc[i1,3] = 9\n",
    "            elif df1.iloc[i1,3] == 'F29-32':\n",
    "                df1.iloc[i1,3] = 10\n",
    "            elif df1.iloc[i1,3] == 'F33-42':\n",
    "                df1.iloc[i1,3] = 11\n",
    "            elif df1.iloc[i1,3] == 'F43+':\n",
    "                df1.iloc[i1,3] = 12\n",
    "        filepath2 = 'formatted_'+filepath1[28:-4]+'.csv'\n",
    "        df1.to_csv(filepath2, index = False)\n",
    "        print(filepath2)"
   ]
  },
  {
   "cell_type": "code",
   "execution_count": null,
   "metadata": {
    "collapsed": true
   },
   "outputs": [],
   "source": [
    "numpart"
   ]
  },
  {
   "cell_type": "code",
   "execution_count": 27,
   "metadata": {
    "collapsed": false
   },
   "outputs": [
    {
     "data": {
      "text/html": [
       "<div>\n",
       "<table border=\"1\" class=\"dataframe\">\n",
       "  <thead>\n",
       "    <tr style=\"text-align: right;\">\n",
       "      <th></th>\n",
       "      <th>geohashes</th>\n",
       "      <th>device_id</th>\n",
       "      <th>age</th>\n",
       "      <th>group</th>\n",
       "      <th>gender</th>\n",
       "      <th>freq</th>\n",
       "    </tr>\n",
       "  </thead>\n",
       "  <tbody>\n",
       "    <tr>\n",
       "      <th>0</th>\n",
       "      <td>wqptdu1xjj2s</td>\n",
       "      <td>-8340098378141155823</td>\n",
       "      <td>28</td>\n",
       "      <td>3</td>\n",
       "      <td>0</td>\n",
       "      <td>3745</td>\n",
       "    </tr>\n",
       "    <tr>\n",
       "      <th>1</th>\n",
       "      <td>wt3mbj1e4vp1</td>\n",
       "      <td>1779631023439405334</td>\n",
       "      <td>39</td>\n",
       "      <td>11</td>\n",
       "      <td>1</td>\n",
       "      <td>2233</td>\n",
       "    </tr>\n",
       "    <tr>\n",
       "      <th>2</th>\n",
       "      <td>wwc2kg4sb3f6</td>\n",
       "      <td>4782582047729166353</td>\n",
       "      <td>36</td>\n",
       "      <td>5</td>\n",
       "      <td>0</td>\n",
       "      <td>2126</td>\n",
       "    </tr>\n",
       "    <tr>\n",
       "      <th>3</th>\n",
       "      <td>wtb59r7wyjg5</td>\n",
       "      <td>5098778421671837341</td>\n",
       "      <td>38</td>\n",
       "      <td>5</td>\n",
       "      <td>0</td>\n",
       "      <td>2003</td>\n",
       "    </tr>\n",
       "    <tr>\n",
       "      <th>4</th>\n",
       "      <td>wqj5yccx13h1</td>\n",
       "      <td>3074308677943390456</td>\n",
       "      <td>24</td>\n",
       "      <td>2</td>\n",
       "      <td>0</td>\n",
       "      <td>1491</td>\n",
       "    </tr>\n",
       "  </tbody>\n",
       "</table>\n",
       "</div>"
      ],
      "text/plain": [
       "      geohashes            device_id  age  group  gender  freq\n",
       "0  wqptdu1xjj2s -8340098378141155823   28      3       0  3745\n",
       "1  wt3mbj1e4vp1  1779631023439405334   39     11       1  2233\n",
       "2  wwc2kg4sb3f6  4782582047729166353   36      5       0  2126\n",
       "3  wtb59r7wyjg5  5098778421671837341   38      5       0  2003\n",
       "4  wqj5yccx13h1  3074308677943390456   24      2       0  1491"
      ]
     },
     "execution_count": 27,
     "metadata": {},
     "output_type": "execute_result"
    }
   ],
   "source": [
    "df_fpg = pd.read_csv('formatted__data_02022017_ms_0_000012.0_np_4.csv')\n",
    "df_fpg.head()"
   ]
  },
  {
   "cell_type": "code",
   "execution_count": 28,
   "metadata": {
    "collapsed": false
   },
   "outputs": [
    {
     "data": {
      "image/png": "[encoded data removed]",
      "text/plain": [
       "<matplotlib.figure.Figure at 0x7fbee37c7b38>"
      ]
     },
     "metadata": {},
     "output_type": "display_data"
    }
   ],
   "source": [
    "import numpy as np\n",
    "import seaborn as sb\n",
    "numpartition = 4\n",
    "freqsets1 = [25310,19258,15130,12650,10771,9135,8045,7045,6398,5594,5059]\n",
    "freqsets2 = [25310,19246,15130,12653,10771,9140,8047,7045,6403,5592,5063]\n",
    "minsup =  np.arange(0.00002,0.00013,0.00001)\n",
    "#plt.plot(minsup,freqsets1,color='k',lw=2)  \n",
    "plt.plot(minsup,freqsets2,color='k',lw=4)\n",
    "plt.xlabel('Minimum support')\n",
    "plt.ylabel('No. of Frequent Itemsets')\n",
    "#plt.title('# of Frequent geohashes v/s minsupport for FPGrowth Model')\n",
    "plt.show()"
   ]
  }
 ],
 "metadata": {
  "anaconda-cloud": {},
  "kernelspec": {
   "display_name": "Python [Root]",
   "language": "python",
   "name": "Python [Root]"
  },
  "language_info": {
   "codemirror_mode": {
    "name": "ipython",
    "version": 3.0
   },
   "file_extension": ".py",
   "mimetype": "text/x-python",
   "name": "python",
   "nbconvert_exporter": "python",
   "pygments_lexer": "ipython3",
   "version": "3.5.2"
  }
 },
 "nbformat": 4,
 "nbformat_minor": 0
}